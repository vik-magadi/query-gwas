{
 "cells": [
  {
   "cell_type": "code",
   "execution_count": 3,
   "id": "6f327bba",
   "metadata": {},
   "outputs": [],
   "source": [
    "import pandas as pd"
   ]
  },
  {
   "cell_type": "code",
   "execution_count": 31,
   "id": "3178bb30",
   "metadata": {},
   "outputs": [],
   "source": [
    "def reformat(file,delimiter):\n",
    "    regenie = pd.read_csv(file,delimiter)\n",
    "    regenie = regenie.sort_values(by=['Chr','Pos'])\n",
    "    regenie = regenie.reset_index().drop(columns = ['index'])\n",
    "    for i in range(len(regenie)):\n",
    "        r = len(regenie['Ref'][i])\n",
    "        a = len(regenie['Alt'][i])\n",
    "        if r>a:\n",
    "            regenie.at[i,'Ref'] = regenie['Ref'][i][a:]\n",
    "            regenie.at[i,'Alt'] = \"-\"\n",
    "            regenie.at[i,'Pos'] += 1\n",
    "        elif a>r:\n",
    "            regenie.at[i,'Alt'] = regenie['Alt'][i][r:]\n",
    "            regenie.at[i,'Ref'] = \"-\"\n",
    "            regenie.at[i,'Pos'] += 1         \n",
    "    regenie['base_uid'] = len(regenie)*[0]\n",
    "\n",
    "    return regenie\n",
    "\n",
    "\n",
    "regenie = reformat(\"trait_var_m30.csv\",\"\\t\")"
   ]
  },
  {
   "cell_type": "code",
   "execution_count": 50,
   "id": "a0bdd8da",
   "metadata": {},
   "outputs": [
    {
     "data": {
      "text/plain": [
       "Index(['Name', 'Chr', 'Pos', 'Ref', 'Alt', 'Trait', 'Cohort', 'Model',\n",
       "       'Effect', 'LCI_Effect', 'UCI_Effect', 'Pval', 'AAF', 'Num_Cases',\n",
       "       'Cases_Ref', 'Cases_Het', 'Cases_Alt', 'Num_Controls', 'Controls_Ref',\n",
       "       'Controls_Het', 'Controls_Alt', 'Info', 'oc_name', 'base_uid'],\n",
       "      dtype='object')"
      ]
     },
     "execution_count": 50,
     "metadata": {},
     "output_type": "execute_result"
    }
   ],
   "source": [
    "regenie.columns"
   ]
  },
  {
   "cell_type": "code",
   "execution_count": 26,
   "id": "b3f2cc21",
   "metadata": {},
   "outputs": [
    {
     "data": {
      "text/html": [
       "<div>\n",
       "<style scoped>\n",
       "    .dataframe tbody tr th:only-of-type {\n",
       "        vertical-align: middle;\n",
       "    }\n",
       "\n",
       "    .dataframe tbody tr th {\n",
       "        vertical-align: top;\n",
       "    }\n",
       "\n",
       "    .dataframe thead th {\n",
       "        text-align: right;\n",
       "    }\n",
       "</style>\n",
       "<table border=\"1\" class=\"dataframe\">\n",
       "  <thead>\n",
       "    <tr style=\"text-align: right;\">\n",
       "      <th></th>\n",
       "      <th>Name</th>\n",
       "      <th>Chr</th>\n",
       "      <th>Pos</th>\n",
       "      <th>Ref</th>\n",
       "      <th>Alt</th>\n",
       "      <th>Trait</th>\n",
       "      <th>Cohort</th>\n",
       "      <th>Model</th>\n",
       "      <th>Effect</th>\n",
       "      <th>LCI_Effect</th>\n",
       "      <th>...</th>\n",
       "      <th>Cases_Ref</th>\n",
       "      <th>Cases_Het</th>\n",
       "      <th>Cases_Alt</th>\n",
       "      <th>Num_Controls</th>\n",
       "      <th>Controls_Ref</th>\n",
       "      <th>Controls_Het</th>\n",
       "      <th>Controls_Alt</th>\n",
       "      <th>Info</th>\n",
       "      <th>oc_name</th>\n",
       "      <th>base_uid</th>\n",
       "    </tr>\n",
       "  </thead>\n",
       "  <tbody>\n",
       "    <tr>\n",
       "      <th>290</th>\n",
       "      <td>4:88731430:T:TA</td>\n",
       "      <td>4</td>\n",
       "      <td>88731431</td>\n",
       "      <td>-</td>\n",
       "      <td>A</td>\n",
       "      <td>R72_PROXY</td>\n",
       "      <td>regenie-multi-trait-test-jc</td>\n",
       "      <td>ADD-WGR-LR</td>\n",
       "      <td>0.317467</td>\n",
       "      <td>0.269012</td>\n",
       "      <td>...</td>\n",
       "      <td>166569</td>\n",
       "      <td>3</td>\n",
       "      <td>0</td>\n",
       "      <td>NaN</td>\n",
       "      <td>NaN</td>\n",
       "      <td>NaN</td>\n",
       "      <td>NaN</td>\n",
       "      <td>REGENIE_SE=0.0247226;INFO=1;MAC=3</td>\n",
       "      <td>R72_PROXY_4:88731430:T:TA</td>\n",
       "      <td>291</td>\n",
       "    </tr>\n",
       "  </tbody>\n",
       "</table>\n",
       "<p>1 rows × 24 columns</p>\n",
       "</div>"
      ],
      "text/plain": [
       "                Name  Chr       Pos Ref Alt      Trait  \\\n",
       "290  4:88731430:T:TA    4  88731431   -   A  R72_PROXY   \n",
       "\n",
       "                          Cohort       Model    Effect  LCI_Effect  ...  \\\n",
       "290  regenie-multi-trait-test-jc  ADD-WGR-LR  0.317467    0.269012  ...   \n",
       "\n",
       "     Cases_Ref  Cases_Het  Cases_Alt  Num_Controls  Controls_Ref  \\\n",
       "290     166569          3          0           NaN           NaN   \n",
       "\n",
       "     Controls_Het  Controls_Alt                               Info  \\\n",
       "290           NaN           NaN  REGENIE_SE=0.0247226;INFO=1;MAC=3   \n",
       "\n",
       "                       oc_name  base_uid  \n",
       "290  R72_PROXY_4:88731430:T:TA       291  \n",
       "\n",
       "[1 rows x 24 columns]"
      ]
     },
     "execution_count": 26,
     "metadata": {},
     "output_type": "execute_result"
    }
   ],
   "source": []
  },
  {
   "cell_type": "code",
   "execution_count": null,
   "id": "5abe6b0f",
   "metadata": {},
   "outputs": [],
   "source": []
  }
 ],
 "metadata": {
  "kernelspec": {
   "display_name": "Python 3",
   "language": "python",
   "name": "python3"
  },
  "language_info": {
   "codemirror_mode": {
    "name": "ipython",
    "version": 3
   },
   "file_extension": ".py",
   "mimetype": "text/x-python",
   "name": "python",
   "nbconvert_exporter": "python",
   "pygments_lexer": "ipython3",
   "version": "3.8.8"
  }
 },
 "nbformat": 4,
 "nbformat_minor": 5
}
